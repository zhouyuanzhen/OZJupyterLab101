{
 "cells": [
  {
   "cell_type": "code",
   "execution_count": 1,
   "id": "97965ac8-1382-4a8c-be18-3b76adfaaccc",
   "metadata": {},
   "outputs": [],
   "source": [
    "import os, platform"
   ]
  },
  {
   "cell_type": "code",
   "execution_count": null,
   "id": "b6044991-7fe4-49ec-9266-0d993e0298a5",
   "metadata": {},
   "outputs": [],
   "source": [
    "uname = platform.uname()\n",
    "print(f\"System: {uname.system}\")\n",
    "print(f\"Node Name: {uname.node}\")\n",
    "print(f\"Release: {uname.release}\")\n",
    "print(f\"Version: {uname.version}\")\n",
    "print(f\"Machine: {uname.machine}\")"
   ]
  },
  {
   "cell_type": "code",
   "execution_count": null,
   "id": "4cc249ca-3360-4403-a2f3-4f85cf8aecd2",
   "metadata": {},
   "outputs": [],
   "source": [
    "print('* INFO: Current working folder:')\n",
    "os.getcwd()"
   ]
  },
  {
   "cell_type": "code",
   "execution_count": null,
   "id": "e0c56238-c635-44ab-a881-f2e0742f46e5",
   "metadata": {},
   "outputs": [],
   "source": [
    "!echo \"Now enjoy your playground with this lab!\""
   ]
  },
  {
   "cell_type": "code",
   "execution_count": null,
   "id": "09054eda-770a-4724-9721-847120c60855",
   "metadata": {},
   "outputs": [],
   "source": []
  }
 ],
 "metadata": {
  "kernelspec": {
   "display_name": "Python 3 (ipykernel)",
   "language": "python",
   "name": "python3"
  },
  "language_info": {
   "codemirror_mode": {
    "name": "ipython",
    "version": 3
   },
   "file_extension": ".py",
   "mimetype": "text/x-python",
   "name": "python",
   "nbconvert_exporter": "python",
   "pygments_lexer": "ipython3",
   "version": "3.13.1"
  }
 },
 "nbformat": 4,
 "nbformat_minor": 5
}
